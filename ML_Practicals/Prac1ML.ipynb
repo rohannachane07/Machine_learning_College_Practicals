{
 "cells": [
  {
   "cell_type": "code",
   "execution_count": 2,
   "id": "2fb1daf8-e9d4-44be-944f-ef0fb6c4b622",
   "metadata": {},
   "outputs": [],
   "source": [
    "import pandas as pd"
   ]
  },
  {
   "cell_type": "code",
   "execution_count": 3,
   "id": "04bd3830-5b1c-4369-89a6-6d68b22ce791",
   "metadata": {},
   "outputs": [],
   "source": [
    "\n",
    "df = pd.read_csv('IPL_PLAYERS.csv')"
   ]
  },
  {
   "cell_type": "code",
   "execution_count": 4,
   "id": "610d1a49-7401-48f4-a2b8-e3df81e835c2",
   "metadata": {},
   "outputs": [
    {
     "data": {
      "text/html": [
       "<div>\n",
       "<style scoped>\n",
       "    .dataframe tbody tr th:only-of-type {\n",
       "        vertical-align: middle;\n",
       "    }\n",
       "\n",
       "    .dataframe tbody tr th {\n",
       "        vertical-align: top;\n",
       "    }\n",
       "\n",
       "    .dataframe thead th {\n",
       "        text-align: right;\n",
       "    }\n",
       "</style>\n",
       "<table border=\"1\" class=\"dataframe\">\n",
       "  <thead>\n",
       "    <tr style=\"text-align: right;\">\n",
       "      <th></th>\n",
       "      <th>PLAYERS</th>\n",
       "      <th>NATIONALITY</th>\n",
       "      <th>TYPE</th>\n",
       "      <th>PRICE PAID</th>\n",
       "      <th>TEAM</th>\n",
       "    </tr>\n",
       "  </thead>\n",
       "  <tbody>\n",
       "    <tr>\n",
       "      <th>0</th>\n",
       "      <td>Avanish Rao Aravelly</td>\n",
       "      <td>Indian</td>\n",
       "      <td>Wicket-Keeper</td>\n",
       "      <td>2000000</td>\n",
       "      <td>CSK</td>\n",
       "    </tr>\n",
       "    <tr>\n",
       "      <th>1</th>\n",
       "      <td>Mustafizur Rahman</td>\n",
       "      <td>Overseas</td>\n",
       "      <td>Bowler</td>\n",
       "      <td>20000000</td>\n",
       "      <td>CSK</td>\n",
       "    </tr>\n",
       "    <tr>\n",
       "      <th>2</th>\n",
       "      <td>Daryl Mitchell</td>\n",
       "      <td>Overseas</td>\n",
       "      <td>All-Rounder</td>\n",
       "      <td>140000000</td>\n",
       "      <td>CSK</td>\n",
       "    </tr>\n",
       "    <tr>\n",
       "      <th>3</th>\n",
       "      <td>Sameer Rizvi</td>\n",
       "      <td>Indian</td>\n",
       "      <td>Batter</td>\n",
       "      <td>84000000</td>\n",
       "      <td>CSK</td>\n",
       "    </tr>\n",
       "    <tr>\n",
       "      <th>4</th>\n",
       "      <td>Rachin Ravindra</td>\n",
       "      <td>Overseas</td>\n",
       "      <td>All-Rounder</td>\n",
       "      <td>18000000</td>\n",
       "      <td>CSK</td>\n",
       "    </tr>\n",
       "  </tbody>\n",
       "</table>\n",
       "</div>"
      ],
      "text/plain": [
       "                PLAYERS NATIONALITY           TYPE  PRICE PAID TEAM\n",
       "0  Avanish Rao Aravelly      Indian  Wicket-Keeper     2000000  CSK\n",
       "1     Mustafizur Rahman    Overseas         Bowler    20000000  CSK\n",
       "2        Daryl Mitchell    Overseas    All-Rounder   140000000  CSK\n",
       "3          Sameer Rizvi      Indian         Batter    84000000  CSK\n",
       "4       Rachin Ravindra    Overseas    All-Rounder    18000000  CSK"
      ]
     },
     "execution_count": 4,
     "metadata": {},
     "output_type": "execute_result"
    }
   ],
   "source": [
    "df.head()"
   ]
  },
  {
   "cell_type": "code",
   "execution_count": 5,
   "id": "09ccb980-0585-45fc-9c30-5d16c02d8353",
   "metadata": {},
   "outputs": [
    {
     "data": {
      "text/html": [
       "<div>\n",
       "<style scoped>\n",
       "    .dataframe tbody tr th:only-of-type {\n",
       "        vertical-align: middle;\n",
       "    }\n",
       "\n",
       "    .dataframe tbody tr th {\n",
       "        vertical-align: top;\n",
       "    }\n",
       "\n",
       "    .dataframe thead th {\n",
       "        text-align: right;\n",
       "    }\n",
       "</style>\n",
       "<table border=\"1\" class=\"dataframe\">\n",
       "  <thead>\n",
       "    <tr style=\"text-align: right;\">\n",
       "      <th></th>\n",
       "      <th>PLAYERS</th>\n",
       "      <th>NATIONALITY</th>\n",
       "      <th>TYPE</th>\n",
       "      <th>PRICE PAID</th>\n",
       "      <th>TEAM</th>\n",
       "    </tr>\n",
       "  </thead>\n",
       "  <tbody>\n",
       "    <tr>\n",
       "      <th>67</th>\n",
       "      <td>Akash Singh</td>\n",
       "      <td>Indian</td>\n",
       "      <td>Bowler</td>\n",
       "      <td>2000000</td>\n",
       "      <td>SH</td>\n",
       "    </tr>\n",
       "    <tr>\n",
       "      <th>68</th>\n",
       "      <td>Jaydev Unadkat</td>\n",
       "      <td>Indian</td>\n",
       "      <td>Bowler</td>\n",
       "      <td>16000000</td>\n",
       "      <td>SH</td>\n",
       "    </tr>\n",
       "    <tr>\n",
       "      <th>69</th>\n",
       "      <td>Wanindu Hasaranga</td>\n",
       "      <td>Overseas</td>\n",
       "      <td>All-Rounder</td>\n",
       "      <td>15000000</td>\n",
       "      <td>SH</td>\n",
       "    </tr>\n",
       "    <tr>\n",
       "      <th>70</th>\n",
       "      <td>Pat Cummins</td>\n",
       "      <td>Overseas</td>\n",
       "      <td>All-Rounder</td>\n",
       "      <td>205000000</td>\n",
       "      <td>SH</td>\n",
       "    </tr>\n",
       "    <tr>\n",
       "      <th>71</th>\n",
       "      <td>Travis Head</td>\n",
       "      <td>Overseas</td>\n",
       "      <td>Batter</td>\n",
       "      <td>68000000</td>\n",
       "      <td>SH</td>\n",
       "    </tr>\n",
       "  </tbody>\n",
       "</table>\n",
       "</div>"
      ],
      "text/plain": [
       "              PLAYERS NATIONALITY         TYPE  PRICE PAID TEAM\n",
       "67        Akash Singh      Indian       Bowler     2000000   SH\n",
       "68     Jaydev Unadkat      Indian       Bowler    16000000   SH\n",
       "69  Wanindu Hasaranga    Overseas  All-Rounder    15000000   SH\n",
       "70        Pat Cummins    Overseas  All-Rounder   205000000   SH\n",
       "71        Travis Head    Overseas       Batter    68000000   SH"
      ]
     },
     "execution_count": 5,
     "metadata": {},
     "output_type": "execute_result"
    }
   ],
   "source": [
    "df.tail()"
   ]
  },
  {
   "cell_type": "code",
   "execution_count": 6,
   "id": "4ac6c119-1f84-43b7-be44-3756e5fd56d9",
   "metadata": {},
   "outputs": [
    {
     "ename": "TypeError",
     "evalue": "'tuple' object is not callable",
     "output_type": "error",
     "traceback": [
      "\u001b[1;31m---------------------------------------------------------------------------\u001b[0m",
      "\u001b[1;31mTypeError\u001b[0m                                 Traceback (most recent call last)",
      "Cell \u001b[1;32mIn[6], line 1\u001b[0m\n\u001b[1;32m----> 1\u001b[0m \u001b[43mdf\u001b[49m\u001b[38;5;241;43m.\u001b[39;49m\u001b[43mshape\u001b[49m\u001b[43m(\u001b[49m\u001b[43m)\u001b[49m\n",
      "\u001b[1;31mTypeError\u001b[0m: 'tuple' object is not callable"
     ]
    }
   ],
   "source": [
    "df.shape()"
   ]
  },
  {
   "cell_type": "code",
   "execution_count": 14,
   "id": "58152a7a-d2ba-46d4-a28f-ad5ee8657b13",
   "metadata": {},
   "outputs": [
    {
     "data": {
      "text/plain": [
       "(72, 5)"
      ]
     },
     "execution_count": 14,
     "metadata": {},
     "output_type": "execute_result"
    }
   ],
   "source": [
    "df.shape"
   ]
  },
  {
   "cell_type": "code",
   "execution_count": 15,
   "id": "9bef4211-9b82-4cc1-b0ad-7a57e796e972",
   "metadata": {},
   "outputs": [
    {
     "data": {
      "text/html": [
       "<div>\n",
       "<style scoped>\n",
       "    .dataframe tbody tr th:only-of-type {\n",
       "        vertical-align: middle;\n",
       "    }\n",
       "\n",
       "    .dataframe tbody tr th {\n",
       "        vertical-align: top;\n",
       "    }\n",
       "\n",
       "    .dataframe thead th {\n",
       "        text-align: right;\n",
       "    }\n",
       "</style>\n",
       "<table border=\"1\" class=\"dataframe\">\n",
       "  <thead>\n",
       "    <tr style=\"text-align: right;\">\n",
       "      <th></th>\n",
       "      <th>PLAYERS</th>\n",
       "      <th>NATIONALITY</th>\n",
       "      <th>TYPE</th>\n",
       "      <th>PRICE PAID</th>\n",
       "      <th>TEAM</th>\n",
       "    </tr>\n",
       "  </thead>\n",
       "  <tbody>\n",
       "    <tr>\n",
       "      <th>0</th>\n",
       "      <td>Avanish Rao Aravelly</td>\n",
       "      <td>Indian</td>\n",
       "      <td>Wicket-Keeper</td>\n",
       "      <td>2000000</td>\n",
       "      <td>CSK</td>\n",
       "    </tr>\n",
       "    <tr>\n",
       "      <th>1</th>\n",
       "      <td>Mustafizur Rahman</td>\n",
       "      <td>Overseas</td>\n",
       "      <td>Bowler</td>\n",
       "      <td>20000000</td>\n",
       "      <td>CSK</td>\n",
       "    </tr>\n",
       "    <tr>\n",
       "      <th>2</th>\n",
       "      <td>Daryl Mitchell</td>\n",
       "      <td>Overseas</td>\n",
       "      <td>All-Rounder</td>\n",
       "      <td>140000000</td>\n",
       "      <td>CSK</td>\n",
       "    </tr>\n",
       "    <tr>\n",
       "      <th>3</th>\n",
       "      <td>Sameer Rizvi</td>\n",
       "      <td>Indian</td>\n",
       "      <td>Batter</td>\n",
       "      <td>84000000</td>\n",
       "      <td>CSK</td>\n",
       "    </tr>\n",
       "    <tr>\n",
       "      <th>4</th>\n",
       "      <td>Rachin Ravindra</td>\n",
       "      <td>Overseas</td>\n",
       "      <td>All-Rounder</td>\n",
       "      <td>18000000</td>\n",
       "      <td>CSK</td>\n",
       "    </tr>\n",
       "    <tr>\n",
       "      <th>...</th>\n",
       "      <td>...</td>\n",
       "      <td>...</td>\n",
       "      <td>...</td>\n",
       "      <td>...</td>\n",
       "      <td>...</td>\n",
       "    </tr>\n",
       "    <tr>\n",
       "      <th>67</th>\n",
       "      <td>Akash Singh</td>\n",
       "      <td>Indian</td>\n",
       "      <td>Bowler</td>\n",
       "      <td>2000000</td>\n",
       "      <td>SH</td>\n",
       "    </tr>\n",
       "    <tr>\n",
       "      <th>68</th>\n",
       "      <td>Jaydev Unadkat</td>\n",
       "      <td>Indian</td>\n",
       "      <td>Bowler</td>\n",
       "      <td>16000000</td>\n",
       "      <td>SH</td>\n",
       "    </tr>\n",
       "    <tr>\n",
       "      <th>69</th>\n",
       "      <td>Wanindu Hasaranga</td>\n",
       "      <td>Overseas</td>\n",
       "      <td>All-Rounder</td>\n",
       "      <td>15000000</td>\n",
       "      <td>SH</td>\n",
       "    </tr>\n",
       "    <tr>\n",
       "      <th>70</th>\n",
       "      <td>Pat Cummins</td>\n",
       "      <td>Overseas</td>\n",
       "      <td>All-Rounder</td>\n",
       "      <td>205000000</td>\n",
       "      <td>SH</td>\n",
       "    </tr>\n",
       "    <tr>\n",
       "      <th>71</th>\n",
       "      <td>Travis Head</td>\n",
       "      <td>Overseas</td>\n",
       "      <td>Batter</td>\n",
       "      <td>68000000</td>\n",
       "      <td>SH</td>\n",
       "    </tr>\n",
       "  </tbody>\n",
       "</table>\n",
       "<p>72 rows × 5 columns</p>\n",
       "</div>"
      ],
      "text/plain": [
       "                 PLAYERS NATIONALITY           TYPE  PRICE PAID TEAM\n",
       "0   Avanish Rao Aravelly      Indian  Wicket-Keeper     2000000  CSK\n",
       "1      Mustafizur Rahman    Overseas         Bowler    20000000  CSK\n",
       "2         Daryl Mitchell    Overseas    All-Rounder   140000000  CSK\n",
       "3           Sameer Rizvi      Indian         Batter    84000000  CSK\n",
       "4        Rachin Ravindra    Overseas    All-Rounder    18000000  CSK\n",
       "..                   ...         ...            ...         ...  ...\n",
       "67           Akash Singh      Indian         Bowler     2000000   SH\n",
       "68        Jaydev Unadkat      Indian         Bowler    16000000   SH\n",
       "69     Wanindu Hasaranga    Overseas    All-Rounder    15000000   SH\n",
       "70           Pat Cummins    Overseas    All-Rounder   205000000   SH\n",
       "71           Travis Head    Overseas         Batter    68000000   SH\n",
       "\n",
       "[72 rows x 5 columns]"
      ]
     },
     "execution_count": 15,
     "metadata": {},
     "output_type": "execute_result"
    }
   ],
   "source": [
    "df"
   ]
  },
  {
   "cell_type": "code",
   "execution_count": 16,
   "id": "ed50c5cd-63e5-4687-82a9-c280adddf8b7",
   "metadata": {},
   "outputs": [
    {
     "data": {
      "text/html": [
       "<div>\n",
       "<style scoped>\n",
       "    .dataframe tbody tr th:only-of-type {\n",
       "        vertical-align: middle;\n",
       "    }\n",
       "\n",
       "    .dataframe tbody tr th {\n",
       "        vertical-align: top;\n",
       "    }\n",
       "\n",
       "    .dataframe thead th {\n",
       "        text-align: right;\n",
       "    }\n",
       "</style>\n",
       "<table border=\"1\" class=\"dataframe\">\n",
       "  <thead>\n",
       "    <tr style=\"text-align: right;\">\n",
       "      <th></th>\n",
       "      <th>PLAYERS</th>\n",
       "      <th>NATIONALITY</th>\n",
       "      <th>TYPE</th>\n",
       "      <th>PRICE PAID</th>\n",
       "      <th>TEAM</th>\n",
       "    </tr>\n",
       "  </thead>\n",
       "  <tbody>\n",
       "    <tr>\n",
       "      <th>0</th>\n",
       "      <td>False</td>\n",
       "      <td>False</td>\n",
       "      <td>False</td>\n",
       "      <td>False</td>\n",
       "      <td>False</td>\n",
       "    </tr>\n",
       "    <tr>\n",
       "      <th>1</th>\n",
       "      <td>False</td>\n",
       "      <td>False</td>\n",
       "      <td>False</td>\n",
       "      <td>False</td>\n",
       "      <td>False</td>\n",
       "    </tr>\n",
       "    <tr>\n",
       "      <th>2</th>\n",
       "      <td>False</td>\n",
       "      <td>False</td>\n",
       "      <td>False</td>\n",
       "      <td>False</td>\n",
       "      <td>False</td>\n",
       "    </tr>\n",
       "    <tr>\n",
       "      <th>3</th>\n",
       "      <td>False</td>\n",
       "      <td>False</td>\n",
       "      <td>False</td>\n",
       "      <td>False</td>\n",
       "      <td>False</td>\n",
       "    </tr>\n",
       "    <tr>\n",
       "      <th>4</th>\n",
       "      <td>False</td>\n",
       "      <td>False</td>\n",
       "      <td>False</td>\n",
       "      <td>False</td>\n",
       "      <td>False</td>\n",
       "    </tr>\n",
       "    <tr>\n",
       "      <th>...</th>\n",
       "      <td>...</td>\n",
       "      <td>...</td>\n",
       "      <td>...</td>\n",
       "      <td>...</td>\n",
       "      <td>...</td>\n",
       "    </tr>\n",
       "    <tr>\n",
       "      <th>67</th>\n",
       "      <td>False</td>\n",
       "      <td>False</td>\n",
       "      <td>False</td>\n",
       "      <td>False</td>\n",
       "      <td>False</td>\n",
       "    </tr>\n",
       "    <tr>\n",
       "      <th>68</th>\n",
       "      <td>False</td>\n",
       "      <td>False</td>\n",
       "      <td>False</td>\n",
       "      <td>False</td>\n",
       "      <td>False</td>\n",
       "    </tr>\n",
       "    <tr>\n",
       "      <th>69</th>\n",
       "      <td>False</td>\n",
       "      <td>False</td>\n",
       "      <td>False</td>\n",
       "      <td>False</td>\n",
       "      <td>False</td>\n",
       "    </tr>\n",
       "    <tr>\n",
       "      <th>70</th>\n",
       "      <td>False</td>\n",
       "      <td>False</td>\n",
       "      <td>False</td>\n",
       "      <td>False</td>\n",
       "      <td>False</td>\n",
       "    </tr>\n",
       "    <tr>\n",
       "      <th>71</th>\n",
       "      <td>False</td>\n",
       "      <td>False</td>\n",
       "      <td>False</td>\n",
       "      <td>False</td>\n",
       "      <td>False</td>\n",
       "    </tr>\n",
       "  </tbody>\n",
       "</table>\n",
       "<p>72 rows × 5 columns</p>\n",
       "</div>"
      ],
      "text/plain": [
       "    PLAYERS  NATIONALITY   TYPE  PRICE PAID   TEAM\n",
       "0     False        False  False       False  False\n",
       "1     False        False  False       False  False\n",
       "2     False        False  False       False  False\n",
       "3     False        False  False       False  False\n",
       "4     False        False  False       False  False\n",
       "..      ...          ...    ...         ...    ...\n",
       "67    False        False  False       False  False\n",
       "68    False        False  False       False  False\n",
       "69    False        False  False       False  False\n",
       "70    False        False  False       False  False\n",
       "71    False        False  False       False  False\n",
       "\n",
       "[72 rows x 5 columns]"
      ]
     },
     "execution_count": 16,
     "metadata": {},
     "output_type": "execute_result"
    }
   ],
   "source": [
    "df.isnull()"
   ]
  },
  {
   "cell_type": "code",
   "execution_count": 17,
   "id": "ef5ecc54-3576-4d86-a516-916a740e0ec4",
   "metadata": {},
   "outputs": [
    {
     "data": {
      "text/plain": [
       "PLAYERS        0\n",
       "NATIONALITY    0\n",
       "TYPE           0\n",
       "PRICE PAID     0\n",
       "TEAM           0\n",
       "dtype: int64"
      ]
     },
     "execution_count": 17,
     "metadata": {},
     "output_type": "execute_result"
    }
   ],
   "source": [
    "df.isnull().sum()"
   ]
  },
  {
   "cell_type": "code",
   "execution_count": 18,
   "id": "70c330f4-ec7e-4874-a2ac-ccfadccbfc69",
   "metadata": {},
   "outputs": [
    {
     "data": {
      "text/plain": [
       "PLAYERS        72\n",
       "NATIONALITY    72\n",
       "TYPE           72\n",
       "PRICE PAID     72\n",
       "TEAM           72\n",
       "dtype: int64"
      ]
     },
     "execution_count": 18,
     "metadata": {},
     "output_type": "execute_result"
    }
   ],
   "source": [
    "df.notnull().sum()"
   ]
  },
  {
   "cell_type": "code",
   "execution_count": 40,
   "id": "347deb11-ce50-40e1-8fdf-be0476476e95",
   "metadata": {},
   "outputs": [],
   "source": [
    "new_df=df.copy()"
   ]
  },
  {
   "cell_type": "code",
   "execution_count": 19,
   "id": "905bf29b-047a-40c7-819d-32423a77253b",
   "metadata": {},
   "outputs": [],
   "source": [
    "import numpy as np"
   ]
  },
  {
   "cell_type": "code",
   "execution_count": 42,
   "id": "4662c6f2-dc03-450c-b224-c4d06d0d04fd",
   "metadata": {},
   "outputs": [
    {
     "name": "stdout",
     "output_type": "stream",
     "text": [
      "DataFrame with Intentional Null Values:\n",
      "                 PLAYERS NATIONALITY           TYPE   PRICE PAID TEAM\n",
      "0   Avanish Rao Aravelly        Ausi  Wicket-Keeper    2000000.0  CSK\n",
      "1      Mustafizur Rahman    Overseas         Bowler   20000000.0  CSK\n",
      "4        Rachin Ravindra         NaN    All-Rounder   18000000.0  CSK\n",
      "5         Shardul Thakur        Ausi    All-Rounder          NaN  CSK\n",
      "6             Ricky Bhui        Ausi  Wicket-Keeper    2000000.0   DC\n",
      "..                   ...         ...            ...          ...  ...\n",
      "67           Akash Singh        Ausi         Bowler    2000000.0   SH\n",
      "68        Jaydev Unadkat        Ausi         Bowler   16000000.0   SH\n",
      "69     Wanindu Hasaranga    Overseas    All-Rounder   15000000.0   SH\n",
      "70           Pat Cummins         NaN    All-Rounder  205000000.0   SH\n",
      "71           Travis Head    Overseas         Batter          NaN   SH\n",
      "\n",
      "[68 rows x 5 columns]\n"
     ]
    },
    {
     "data": {
      "text/plain": [
       "PLAYERS        0\n",
       "NATIONALITY    2\n",
       "TYPE           0\n",
       "PRICE PAID     2\n",
       "TEAM           0\n",
       "dtype: int64"
      ]
     },
     "execution_count": 42,
     "metadata": {},
     "output_type": "execute_result"
    }
   ],
   "source": [
    "column_indices = ['NATIONALITY', 'PRICE PAID']\n",
    "row_indices = [4,5]  \n",
    "\n",
    "new_df.loc[row_indices[0], column_indices[0]] = np.nan  \n",
    "new_df.loc[row_indices[1], g[1]] = np.nan\n",
    "\n",
    "print(\"DataFrame with Intentional Null Values:\")\n",
    "print(new_df)\n",
    "new_df.isnull().sum()"
   ]
  },
  {
   "cell_type": "code",
   "execution_count": 43,
   "id": "3c2d44d8-b9e6-4f9f-be28-0869598ae5df",
   "metadata": {},
   "outputs": [],
   "source": [
    "new_df.dropna(inplace=True)\n"
   ]
  },
  {
   "cell_type": "code",
   "execution_count": 44,
   "id": "de0eecc8-1d13-45a7-8fcd-5d0036e9fdd0",
   "metadata": {},
   "outputs": [
    {
     "data": {
      "text/plain": [
       "PLAYERS        0\n",
       "NATIONALITY    0\n",
       "TYPE           0\n",
       "PRICE PAID     0\n",
       "TEAM           0\n",
       "dtype: int64"
      ]
     },
     "execution_count": 44,
     "metadata": {},
     "output_type": "execute_result"
    }
   ],
   "source": [
    "new_df.isnull().sum()"
   ]
  },
  {
   "cell_type": "code",
   "execution_count": 45,
   "id": "33ff9b0d-b6d1-4b06-84d0-dc373fd6bf71",
   "metadata": {},
   "outputs": [],
   "source": [
    "new_df.fillna(7, inplace=True)\n"
   ]
  },
  {
   "cell_type": "code",
   "execution_count": 32,
   "id": "dbf24e3a-38ce-4da8-a018-86dc5735a5d6",
   "metadata": {},
   "outputs": [
    {
     "data": {
      "text/html": [
       "<div>\n",
       "<style scoped>\n",
       "    .dataframe tbody tr th:only-of-type {\n",
       "        vertical-align: middle;\n",
       "    }\n",
       "\n",
       "    .dataframe tbody tr th {\n",
       "        vertical-align: top;\n",
       "    }\n",
       "\n",
       "    .dataframe thead th {\n",
       "        text-align: right;\n",
       "    }\n",
       "</style>\n",
       "<table border=\"1\" class=\"dataframe\">\n",
       "  <thead>\n",
       "    <tr style=\"text-align: right;\">\n",
       "      <th></th>\n",
       "      <th>PLAYERS</th>\n",
       "      <th>NATIONALITY</th>\n",
       "      <th>TYPE</th>\n",
       "      <th>PRICE PAID</th>\n",
       "      <th>TEAM</th>\n",
       "    </tr>\n",
       "  </thead>\n",
       "  <tbody>\n",
       "    <tr>\n",
       "      <th>0</th>\n",
       "      <td>Avanish Rao Aravelly</td>\n",
       "      <td>Indian</td>\n",
       "      <td>Wicket-Keeper</td>\n",
       "      <td>2000000.0</td>\n",
       "      <td>CSK</td>\n",
       "    </tr>\n",
       "    <tr>\n",
       "      <th>1</th>\n",
       "      <td>Mustafizur Rahman</td>\n",
       "      <td>Overseas</td>\n",
       "      <td>Bowler</td>\n",
       "      <td>20000000.0</td>\n",
       "      <td>CSK</td>\n",
       "    </tr>\n",
       "    <tr>\n",
       "      <th>4</th>\n",
       "      <td>Rachin Ravindra</td>\n",
       "      <td>Overseas</td>\n",
       "      <td>All-Rounder</td>\n",
       "      <td>18000000.0</td>\n",
       "      <td>CSK</td>\n",
       "    </tr>\n",
       "    <tr>\n",
       "      <th>5</th>\n",
       "      <td>Shardul Thakur</td>\n",
       "      <td>Indian</td>\n",
       "      <td>All-Rounder</td>\n",
       "      <td>40000000.0</td>\n",
       "      <td>CSK</td>\n",
       "    </tr>\n",
       "    <tr>\n",
       "      <th>6</th>\n",
       "      <td>Ricky Bhui</td>\n",
       "      <td>Indian</td>\n",
       "      <td>Wicket-Keeper</td>\n",
       "      <td>2000000.0</td>\n",
       "      <td>DC</td>\n",
       "    </tr>\n",
       "    <tr>\n",
       "      <th>...</th>\n",
       "      <td>...</td>\n",
       "      <td>...</td>\n",
       "      <td>...</td>\n",
       "      <td>...</td>\n",
       "      <td>...</td>\n",
       "    </tr>\n",
       "    <tr>\n",
       "      <th>67</th>\n",
       "      <td>Akash Singh</td>\n",
       "      <td>Indian</td>\n",
       "      <td>Bowler</td>\n",
       "      <td>2000000.0</td>\n",
       "      <td>SH</td>\n",
       "    </tr>\n",
       "    <tr>\n",
       "      <th>68</th>\n",
       "      <td>Jaydev Unadkat</td>\n",
       "      <td>Indian</td>\n",
       "      <td>Bowler</td>\n",
       "      <td>16000000.0</td>\n",
       "      <td>SH</td>\n",
       "    </tr>\n",
       "    <tr>\n",
       "      <th>69</th>\n",
       "      <td>Wanindu Hasaranga</td>\n",
       "      <td>Overseas</td>\n",
       "      <td>All-Rounder</td>\n",
       "      <td>15000000.0</td>\n",
       "      <td>SH</td>\n",
       "    </tr>\n",
       "    <tr>\n",
       "      <th>70</th>\n",
       "      <td>Pat Cummins</td>\n",
       "      <td>7</td>\n",
       "      <td>All-Rounder</td>\n",
       "      <td>205000000.0</td>\n",
       "      <td>SH</td>\n",
       "    </tr>\n",
       "    <tr>\n",
       "      <th>71</th>\n",
       "      <td>Travis Head</td>\n",
       "      <td>Overseas</td>\n",
       "      <td>Batter</td>\n",
       "      <td>7.0</td>\n",
       "      <td>SH</td>\n",
       "    </tr>\n",
       "  </tbody>\n",
       "</table>\n",
       "<p>68 rows × 5 columns</p>\n",
       "</div>"
      ],
      "text/plain": [
       "                 PLAYERS NATIONALITY           TYPE   PRICE PAID TEAM\n",
       "0   Avanish Rao Aravelly      Indian  Wicket-Keeper    2000000.0  CSK\n",
       "1      Mustafizur Rahman    Overseas         Bowler   20000000.0  CSK\n",
       "4        Rachin Ravindra    Overseas    All-Rounder   18000000.0  CSK\n",
       "5         Shardul Thakur      Indian    All-Rounder   40000000.0  CSK\n",
       "6             Ricky Bhui      Indian  Wicket-Keeper    2000000.0   DC\n",
       "..                   ...         ...            ...          ...  ...\n",
       "67           Akash Singh      Indian         Bowler    2000000.0   SH\n",
       "68        Jaydev Unadkat      Indian         Bowler   16000000.0   SH\n",
       "69     Wanindu Hasaranga    Overseas    All-Rounder   15000000.0   SH\n",
       "70           Pat Cummins           7    All-Rounder  205000000.0   SH\n",
       "71           Travis Head    Overseas         Batter          7.0   SH\n",
       "\n",
       "[68 rows x 5 columns]"
      ]
     },
     "execution_count": 32,
     "metadata": {},
     "output_type": "execute_result"
    }
   ],
   "source": [
    "df"
   ]
  },
  {
   "cell_type": "code",
   "execution_count": 35,
   "id": "1f6a8ad6-640a-4bf4-8ba3-ba084d4d7adc",
   "metadata": {},
   "outputs": [],
   "source": [
    "df.replace('Indian', 'Ausi', inplace=True)\n"
   ]
  },
  {
   "cell_type": "code",
   "execution_count": 36,
   "id": "1b689588-2af9-4779-aa79-52b64c3556f1",
   "metadata": {},
   "outputs": [
    {
     "name": "stdout",
     "output_type": "stream",
     "text": [
      "                 PLAYERS NATIONALITY           TYPE   PRICE PAID TEAM\n",
      "0   Avanish Rao Aravelly        Ausi  Wicket-Keeper    2000000.0  CSK\n",
      "1      Mustafizur Rahman    Overseas         Bowler   20000000.0  CSK\n",
      "4        Rachin Ravindra    Overseas    All-Rounder   18000000.0  CSK\n",
      "5         Shardul Thakur        Ausi    All-Rounder   40000000.0  CSK\n",
      "6             Ricky Bhui        Ausi  Wicket-Keeper    2000000.0   DC\n",
      "..                   ...         ...            ...          ...  ...\n",
      "67           Akash Singh        Ausi         Bowler    2000000.0   SH\n",
      "68        Jaydev Unadkat        Ausi         Bowler   16000000.0   SH\n",
      "69     Wanindu Hasaranga    Overseas    All-Rounder   15000000.0   SH\n",
      "70           Pat Cummins           7    All-Rounder  205000000.0   SH\n",
      "71           Travis Head    Overseas         Batter          7.0   SH\n",
      "\n",
      "[68 rows x 5 columns]\n"
     ]
    }
   ],
   "source": [
    "print(df)"
   ]
  },
  {
   "cell_type": "code",
   "execution_count": 39,
   "id": "894989fa-9d58-4435-b572-c0f0c90646a3",
   "metadata": {},
   "outputs": [
    {
     "data": {
      "text/html": [
       "<div>\n",
       "<style scoped>\n",
       "    .dataframe tbody tr th:only-of-type {\n",
       "        vertical-align: middle;\n",
       "    }\n",
       "\n",
       "    .dataframe tbody tr th {\n",
       "        vertical-align: top;\n",
       "    }\n",
       "\n",
       "    .dataframe thead th {\n",
       "        text-align: right;\n",
       "    }\n",
       "</style>\n",
       "<table border=\"1\" class=\"dataframe\">\n",
       "  <thead>\n",
       "    <tr style=\"text-align: right;\">\n",
       "      <th></th>\n",
       "      <th>PLAYERS</th>\n",
       "      <th>NATIONALITY</th>\n",
       "      <th>TYPE</th>\n",
       "      <th>PRICE PAID</th>\n",
       "      <th>TEAM</th>\n",
       "    </tr>\n",
       "  </thead>\n",
       "  <tbody>\n",
       "    <tr>\n",
       "      <th>0</th>\n",
       "      <td>Avanish Rao Aravelly</td>\n",
       "      <td>Ausi</td>\n",
       "      <td>Wicket-Keeper</td>\n",
       "      <td>2000000.0</td>\n",
       "      <td>CSK</td>\n",
       "    </tr>\n",
       "    <tr>\n",
       "      <th>1</th>\n",
       "      <td>Mustafizur Rahman</td>\n",
       "      <td>Overseas</td>\n",
       "      <td>Bowler</td>\n",
       "      <td>20000000.0</td>\n",
       "      <td>CSK</td>\n",
       "    </tr>\n",
       "    <tr>\n",
       "      <th>4</th>\n",
       "      <td>Rachin Ravindra</td>\n",
       "      <td>Overseas</td>\n",
       "      <td>All-Rounder</td>\n",
       "      <td>18000000.0</td>\n",
       "      <td>CSK</td>\n",
       "    </tr>\n",
       "    <tr>\n",
       "      <th>5</th>\n",
       "      <td>Shardul Thakur</td>\n",
       "      <td>Ausi</td>\n",
       "      <td>All-Rounder</td>\n",
       "      <td>40000000.0</td>\n",
       "      <td>CSK</td>\n",
       "    </tr>\n",
       "    <tr>\n",
       "      <th>6</th>\n",
       "      <td>Ricky Bhui</td>\n",
       "      <td>Ausi</td>\n",
       "      <td>Wicket-Keeper</td>\n",
       "      <td>2000000.0</td>\n",
       "      <td>DC</td>\n",
       "    </tr>\n",
       "    <tr>\n",
       "      <th>...</th>\n",
       "      <td>...</td>\n",
       "      <td>...</td>\n",
       "      <td>...</td>\n",
       "      <td>...</td>\n",
       "      <td>...</td>\n",
       "    </tr>\n",
       "    <tr>\n",
       "      <th>67</th>\n",
       "      <td>Akash Singh</td>\n",
       "      <td>Ausi</td>\n",
       "      <td>Bowler</td>\n",
       "      <td>2000000.0</td>\n",
       "      <td>SH</td>\n",
       "    </tr>\n",
       "    <tr>\n",
       "      <th>68</th>\n",
       "      <td>Jaydev Unadkat</td>\n",
       "      <td>Ausi</td>\n",
       "      <td>Bowler</td>\n",
       "      <td>16000000.0</td>\n",
       "      <td>SH</td>\n",
       "    </tr>\n",
       "    <tr>\n",
       "      <th>69</th>\n",
       "      <td>Wanindu Hasaranga</td>\n",
       "      <td>Overseas</td>\n",
       "      <td>All-Rounder</td>\n",
       "      <td>15000000.0</td>\n",
       "      <td>SH</td>\n",
       "    </tr>\n",
       "    <tr>\n",
       "      <th>70</th>\n",
       "      <td>Pat Cummins</td>\n",
       "      <td>7</td>\n",
       "      <td>All-Rounder</td>\n",
       "      <td>205000000.0</td>\n",
       "      <td>SH</td>\n",
       "    </tr>\n",
       "    <tr>\n",
       "      <th>71</th>\n",
       "      <td>Travis Head</td>\n",
       "      <td>Overseas</td>\n",
       "      <td>Batter</td>\n",
       "      <td>7.0</td>\n",
       "      <td>SH</td>\n",
       "    </tr>\n",
       "  </tbody>\n",
       "</table>\n",
       "<p>68 rows × 5 columns</p>\n",
       "</div>"
      ],
      "text/plain": [
       "                 PLAYERS NATIONALITY           TYPE   PRICE PAID TEAM\n",
       "0   Avanish Rao Aravelly        Ausi  Wicket-Keeper    2000000.0  CSK\n",
       "1      Mustafizur Rahman    Overseas         Bowler   20000000.0  CSK\n",
       "4        Rachin Ravindra    Overseas    All-Rounder   18000000.0  CSK\n",
       "5         Shardul Thakur        Ausi    All-Rounder   40000000.0  CSK\n",
       "6             Ricky Bhui        Ausi  Wicket-Keeper    2000000.0   DC\n",
       "..                   ...         ...            ...          ...  ...\n",
       "67           Akash Singh        Ausi         Bowler    2000000.0   SH\n",
       "68        Jaydev Unadkat        Ausi         Bowler   16000000.0   SH\n",
       "69     Wanindu Hasaranga    Overseas    All-Rounder   15000000.0   SH\n",
       "70           Pat Cummins           7    All-Rounder  205000000.0   SH\n",
       "71           Travis Head    Overseas         Batter          7.0   SH\n",
       "\n",
       "[68 rows x 5 columns]"
      ]
     },
     "execution_count": 39,
     "metadata": {},
     "output_type": "execute_result"
    }
   ],
   "source": [
    " df.infer_objects()"
   ]
  },
  {
   "cell_type": "code",
   "execution_count": 38,
   "id": "ee1fcfe0-2f6a-4104-b090-01cc67c73d4a",
   "metadata": {},
   "outputs": [
    {
     "name": "stderr",
     "output_type": "stream",
     "text": [
      "C:\\Users\\rohan\\AppData\\Local\\Temp\\ipykernel_4368\\471562723.py:1: FutureWarning: DataFrame.interpolate with object dtype is deprecated and will raise in a future version. Call obj.infer_objects(copy=False) before interpolating instead.\n",
      "  df.interpolate(inplace=True)\n"
     ]
    }
   ],
   "source": [
    "df.interpolate(inplace=True)"
   ]
  },
  {
   "cell_type": "code",
   "execution_count": null,
   "id": "f202fb13-a142-4198-91db-1439aef025a2",
   "metadata": {},
   "outputs": [],
   "source": [
    "\n",
    "filtered_data = df[df['TYPE'] == 'Bowler']\n"
   ]
  },
  {
   "cell_type": "code",
   "execution_count": null,
   "id": "7bd534aa-ca0c-41a2-9890-5069523f6c2b",
   "metadata": {},
   "outputs": [],
   "source": [
    "filtered_data"
   ]
  },
  {
   "cell_type": "code",
   "execution_count": null,
   "id": "b107184e-4e2d-4672-818e-3ff5fa061fd0",
   "metadata": {},
   "outputs": [],
   "source": [
    "data_dict = {\n",
    "    'PLAYERS': ['Avanish Rao Aravelly', 'Mustafizur Rahman', 'Daryl Mitchell', 'Sameer Rizvi', 'Rachin Ravindra', 'Shardul Thakur', ...],\n",
    "    'NATIONALITY': ['Indian', 'Overseas', 'Overseas', 'Indian', 'Overseas', 'Indian', ...],\n",
    "    'TYPE': ['Wicket-Keeper', 'Bowler', 'All-Rounder', 'Batter', 'All-Rounder', 'All-Rounder', ...],\n",
    "    'PRICE PAID': [2000000, 20000000, 140000000, 84000000, 18000000, 40000000, ...],\n",
    "    'TEAM': ['CSK', 'CSK', 'CSK', 'CSK', 'CSK', 'CSK', ...]\n",
    "}\n",
    "\n",
    "new_df = pd.DataFrame(data_dict)\n",
    "print(new_df)"
   ]
  },
  {
   "cell_type": "code",
   "execution_count": null,
   "id": "7e8e828a-721c-477a-aec6-6a1786854690",
   "metadata": {},
   "outputs": [],
   "source": [
    "\n",
    "bool_series = new_df.isnull()\n"
   ]
  },
  {
   "cell_type": "code",
   "execution_count": null,
   "id": "e9dff144-df31-4a8a-8de5-ecf4d775cf2f",
   "metadata": {},
   "outputs": [],
   "source": [
    "bool_series"
   ]
  },
  {
   "cell_type": "code",
   "execution_count": null,
   "id": "ffbada3d-c98d-474c-9547-0c43b9efd401",
   "metadata": {},
   "outputs": [],
   "source": [
    "\n",
    "new_df.fillna(new_df.mean(), inplace=True)\n",
    "new_df.fillna(new_df.median(), inplace=True)\n"
   ]
  },
  {
   "cell_type": "code",
   "execution_count": null,
   "id": "a86cccdd-1acc-4dbc-b2e7-b04f391f94ab",
   "metadata": {},
   "outputs": [],
   "source": []
  }
 ],
 "metadata": {
  "kernelspec": {
   "display_name": "Python 3 (ipykernel)",
   "language": "python",
   "name": "python3"
  },
  "language_info": {
   "codemirror_mode": {
    "name": "ipython",
    "version": 3
   },
   "file_extension": ".py",
   "mimetype": "text/x-python",
   "name": "python",
   "nbconvert_exporter": "python",
   "pygments_lexer": "ipython3",
   "version": "3.11.6"
  }
 },
 "nbformat": 4,
 "nbformat_minor": 5
}
